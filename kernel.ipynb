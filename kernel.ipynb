{
  "cells": [
    {
      "metadata": {
        "_uuid": "8f2839f25d086af736a60e9eeb907d3b93b6e0e5",
        "_cell_guid": "b1076dfc-b9ad-4769-8c92-a6c4dae69d19",
        "trusted": true
      },
      "cell_type": "code",
      "source": "# This Python 3 environment comes with many helpful analytics libraries installed\n# It is defined by the kaggle/python docker image: https://github.com/kaggle/docker-python\n# For example, here's several helpful packages to load in \n\nimport numpy as np # linear algebra\nimport pandas as pd # data processing, CSV file I/O (e.g. pd.read_csv)\nfrom tqdm import tqdm\ntqdm.pandas()\nfrom collections import defaultdict\n# Input data files are available in the \"../input/\" directory.\n# For example, running this (by clicking run or pressing Shift+Enter) will list the files in the input directory\n\nimport os\nprint(os.listdir(\"../input\"))\n\n# Any results you write to the current directory are saved as output.",
      "execution_count": null,
      "outputs": []
    },
    {
      "metadata": {
        "_cell_guid": "79c7e3d0-c299-4dcb-8224-4455121ee9b0",
        "_uuid": "d629ff2d2480ee46fbb7e2d37f6b5fab8052498a",
        "trusted": true
      },
      "cell_type": "code",
      "source": "train_set = pd.read_csv('../input/train.csv')\ntest_set = pd.read_csv('../input/test.csv')\nprint(\"Training set size = {} \\nTest set size = {}\".format(train_set.shape, test_set.shape))\n",
      "execution_count": null,
      "outputs": []
    },
    {
      "metadata": {
        "trusted": true,
        "_uuid": "6b9cfbcde27fad1ab10f665d1ec3bac62afbb334"
      },
      "cell_type": "code",
      "source": "train_set.head()",
      "execution_count": null,
      "outputs": []
    },
    {
      "metadata": {
        "trusted": true,
        "_uuid": "c0e2043aa78734ae5714f0a86bf539ca139395d5"
      },
      "cell_type": "code",
      "source": "counts = train_set['target'].value_counts()\nprint(counts)\nprint(\"Percentage of 1's =\" + str(counts[1]/counts[0]*100)) ",
      "execution_count": null,
      "outputs": []
    },
    {
      "metadata": {
        "trusted": true,
        "_uuid": "6bf24c908d7ba86b3e008f42e79912c56d1d6689"
      },
      "cell_type": "code",
      "source": "def get_counts(sentences, verbose = True):\n    \"\"\"\n    params:\n        sentences = list of list of words\n    returns:\n        dictionary of words with values as counts\n    \"\"\"\n    \n    count_dict = defaultdict(int)\n    for sentence in tqdm(sentences, disable = \\\n                         (not verbose)):\n        for word in sentence:\n            count_dict[word]+=1\n    return count_dict",
      "execution_count": null,
      "outputs": []
    },
    {
      "metadata": {
        "trusted": true,
        "_uuid": "2407efd060b84ca89ae021b677b7353cb97c7d08"
      },
      "cell_type": "code",
      "source": "sentences = train_set['question_text'].progress_apply(\\\n                lambda x: x.split()).values\ncount_dict = get_counts(sentences)\nprint({w:count_dict[w] for w in list(count_dict)[:5]})",
      "execution_count": null,
      "outputs": []
    },
    {
      "metadata": {
        "trusted": true,
        "_uuid": "fd52739f844c0a64fbb064584188708312710126"
      },
      "cell_type": "code",
      "source": "",
      "execution_count": null,
      "outputs": []
    }
  ],
  "metadata": {
    "kernelspec": {
      "display_name": "Python 3",
      "language": "python",
      "name": "python3"
    },
    "language_info": {
      "name": "python",
      "version": "3.6.6",
      "mimetype": "text/x-python",
      "codemirror_mode": {
        "name": "ipython",
        "version": 3
      },
      "pygments_lexer": "ipython3",
      "nbconvert_exporter": "python",
      "file_extension": ".py"
    }
  },
  "nbformat": 4,
  "nbformat_minor": 1
}